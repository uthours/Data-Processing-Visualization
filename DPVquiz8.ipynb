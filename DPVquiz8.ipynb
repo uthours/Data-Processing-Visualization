{
  "nbformat": 4,
  "nbformat_minor": 0,
  "metadata": {
    "colab": {
      "name": "DPVquiz8.ipynb",
      "provenance": [],
      "authorship_tag": "ABX9TyMHaI4mXsdPSY1y3BobDGiV",
      "include_colab_link": true
    },
    "kernelspec": {
      "name": "python3",
      "display_name": "Python 3"
    },
    "language_info": {
      "name": "python"
    }
  },
  "cells": [
    {
      "cell_type": "markdown",
      "metadata": {
        "id": "view-in-github",
        "colab_type": "text"
      },
      "source": [
        "<a href=\"https://colab.research.google.com/github/uthours/Data-Processing-Visualization/blob/main/DPVquiz8.ipynb\" target=\"_parent\"><img src=\"https://colab.research.google.com/assets/colab-badge.svg\" alt=\"Open In Colab\"/></a>"
      ]
    },
    {
      "cell_type": "markdown",
      "source": [
        "# Dr. Jacob Data Processing Visualization \n",
        "# Uttam Subedi"
      ],
      "metadata": {
        "id": "gFtjc-ct-fqi"
      }
    },
    {
      "cell_type": "markdown",
      "source": [
        "I am going to import and load the libraries required to load and parse a webpage for this project. Pandas will help to structure and filter the data. whereas BeautifulSoup will parse the code."
      ],
      "metadata": {
        "id": "8AaqZ_Y4-km6"
      }
    },
    {
      "cell_type": "code",
      "execution_count": 8,
      "metadata": {
        "id": "x4tIrD6l9fZj"
      },
      "outputs": [],
      "source": [
        "import requests\n",
        "import pandas as pd\n",
        "from bs4 import BeautifulSoup"
      ]
    },
    {
      "cell_type": "markdown",
      "source": [
        "Let's look at the Prison Break series from wikipidia. I am using a request library's get method to get the raw data from the passed URL."
      ],
      "metadata": {
        "id": "YqN-SVKJ-tcd"
      }
    },
    {
      "cell_type": "code",
      "source": [
        "rawData = requests.get('https://en.wikipedia.org/wiki/Prison_Break')\n",
        "html_texts = rawData.text\n",
        "# now lets parse those codes\n",
        "soup = BeautifulSoup(html_texts,'lxml')"
      ],
      "metadata": {
        "id": "lM9Kq1yf9ycE"
      },
      "execution_count": 9,
      "outputs": []
    },
    {
      "cell_type": "markdown",
      "source": [
        "# 1. Title of the page"
      ],
      "metadata": {
        "id": "lCdUvkTQ-4DH"
      }
    },
    {
      "cell_type": "code",
      "source": [
        "soup.title"
      ],
      "metadata": {
        "colab": {
          "base_uri": "https://localhost:8080/"
        },
        "id": "VROCdK88951M",
        "outputId": "99f2d36d-d83b-4c94-98e6-7ea2cd1f50f8"
      },
      "execution_count": 10,
      "outputs": [
        {
          "output_type": "execute_result",
          "data": {
            "text/plain": [
              "<title>Prison Break - Wikipedia</title>"
            ]
          },
          "metadata": {},
          "execution_count": 10
        }
      ]
    },
    {
      "cell_type": "code",
      "source": [
        "soup.title.text"
      ],
      "metadata": {
        "colab": {
          "base_uri": "https://localhost:8080/",
          "height": 36
        },
        "id": "SgO6v7mF9_2a",
        "outputId": "e3cc6f66-a728-4a3a-c688-b9eaef9be1b1"
      },
      "execution_count": 11,
      "outputs": [
        {
          "output_type": "execute_result",
          "data": {
            "application/vnd.google.colaboratory.intrinsic+json": {
              "type": "string"
            },
            "text/plain": [
              "'Prison Break - Wikipedia'"
            ]
          },
          "metadata": {},
          "execution_count": 11
        }
      ]
    },
    {
      "cell_type": "markdown",
      "source": [
        "# 2. I am printing out all the links from the webpage"
      ],
      "metadata": {
        "id": "E5cYir08-9xv"
      }
    },
    {
      "cell_type": "code",
      "source": [
        "soup.table.findAll('a')"
      ],
      "metadata": {
        "colab": {
          "base_uri": "https://localhost:8080/"
        },
        "id": "6dJxBq1U-DiQ",
        "outputId": "44f8194b-1f2b-4035-d468-be23414b91b9"
      },
      "execution_count": 12,
      "outputs": [
        {
          "output_type": "execute_result",
          "data": {
            "text/plain": [
              "[<a class=\"image\" href=\"/wiki/File:Prison-break-s1-intro.jpg\"><img alt=\"Prison-break-s1-intro.jpg\" data-file-height=\"141\" data-file-width=\"250\" decoding=\"async\" height=\"141\" src=\"//upload.wikimedia.org/wikipedia/en/d/d3/Prison-break-s1-intro.jpg\" width=\"250\"/></a>,\n",
              " <a href=\"/wiki/Serial_(radio_and_television)\" title=\"Serial (radio and television)\">Serial drama</a>,\n",
              " <a href=\"/wiki/Crime_fiction\" title=\"Crime fiction\">Crime drama</a>,\n",
              " <a href=\"/wiki/Thriller_(genre)\" title=\"Thriller (genre)\">Action thriller</a>,\n",
              " <a href=\"/wiki/Paul_Scheuring\" title=\"Paul Scheuring\">Paul Scheuring</a>,\n",
              " <a href=\"/wiki/Dominic_Purcell\" title=\"Dominic Purcell\">Dominic Purcell</a>,\n",
              " <a href=\"/wiki/Wentworth_Miller\" title=\"Wentworth Miller\">Wentworth Miller</a>,\n",
              " <a href=\"/wiki/Robin_Tunney\" title=\"Robin Tunney\">Robin Tunney</a>,\n",
              " <a href=\"/wiki/Peter_Stormare\" title=\"Peter Stormare\">Peter Stormare</a>,\n",
              " <a href=\"/wiki/Amaury_Nolasco\" title=\"Amaury Nolasco\">Amaury Nolasco</a>,\n",
              " <a href=\"/wiki/Marshall_Allman\" title=\"Marshall Allman\">Marshall Allman</a>,\n",
              " <a href=\"/wiki/Wade_Williams\" title=\"Wade Williams\">Wade Williams</a>,\n",
              " <a href=\"/wiki/Paul_Adelstein\" title=\"Paul Adelstein\">Paul Adelstein</a>,\n",
              " <a href=\"/wiki/Robert_Knepper\" title=\"Robert Knepper\">Robert Knepper</a>,\n",
              " <a href=\"/wiki/Rockmond_Dunbar\" title=\"Rockmond Dunbar\">Rockmond Dunbar</a>,\n",
              " <a href=\"/wiki/Sarah_Wayne_Callies\" title=\"Sarah Wayne Callies\">Sarah Wayne Callies</a>,\n",
              " <a href=\"/wiki/William_Fichtner\" title=\"William Fichtner\">William Fichtner</a>,\n",
              " <a href=\"/wiki/Chris_Vance_(actor)\" title=\"Chris Vance (actor)\">Chris Vance</a>,\n",
              " <a href=\"/wiki/Robert_Wisdom\" title=\"Robert Wisdom\">Robert Wisdom</a>,\n",
              " <a href=\"/wiki/Danay_Garc%C3%ADa\" title=\"Danay García\">Danay García</a>,\n",
              " <a href=\"/wiki/Jodi_Lyn_O%27Keefe\" title=\"Jodi Lyn O'Keefe\">Jodi Lyn O'Keefe</a>,\n",
              " <a href=\"/wiki/Michael_Rapaport\" title=\"Michael Rapaport\">Michael Rapaport</a>,\n",
              " <a href=\"/wiki/Mark_Feuerstein\" title=\"Mark Feuerstein\">Mark Feuerstein</a>,\n",
              " <a href=\"/wiki/Inbar_Lavi\" title=\"Inbar Lavi\">Inbar Lavi</a>,\n",
              " <a href=\"/wiki/Augustus_Prew\" title=\"Augustus Prew\">Augustus Prew</a>,\n",
              " <a href=\"/wiki/Ramin_Djawadi\" title=\"Ramin Djawadi\">Ramin Djawadi</a>,\n",
              " <a href=\"/wiki/List_of_Prison_Break_episodes\" title=\"List of Prison Break episodes\">list of episodes</a>,\n",
              " <a href=\"/wiki/Marty_Adelstein\" title=\"Marty Adelstein\">Marty Adelstein</a>,\n",
              " <a href=\"/wiki/Neal_H._Moritz\" title=\"Neal H. Moritz\">Neal H. Moritz</a>,\n",
              " <a href=\"/wiki/Brett_Ratner\" title=\"Brett Ratner\">Brett Ratner</a>,\n",
              " <a href=\"/wiki/Matt_Olmstead\" title=\"Matt Olmstead\">Matt Olmstead</a>,\n",
              " <a href=\"/wiki/Kevin_Hooks\" title=\"Kevin Hooks\">Kevin Hooks</a>,\n",
              " <a href=\"/wiki/Michael_Pavone\" title=\"Michael Pavone\">Michael Pavone</a>,\n",
              " <a href=\"/wiki/Nelson_McCormick_(director)\" title=\"Nelson McCormick (director)\">Nelson McCormick</a>,\n",
              " <a href=\"/wiki/Chicago\" title=\"Chicago\">Chicago, Illinois</a>,\n",
              " <a href=\"/wiki/Joliet,_Illinois\" title=\"Joliet, Illinois\">Joliet, Illinois</a>,\n",
              " <a href=\"/wiki/Dallas\" title=\"Dallas\">Dallas, Texas</a>,\n",
              " <a href=\"/wiki/Pensacola,_Florida\" title=\"Pensacola, Florida\">Pensacola, Florida</a>,\n",
              " <a href=\"/wiki/Los_Angeles\" title=\"Los Angeles\">Los Angeles, California</a>,\n",
              " <a href=\"/wiki/Toronto\" title=\"Toronto\">Toronto, Ontario</a>,\n",
              " <a href=\"/wiki/Vancouver\" title=\"Vancouver\">Vancouver, British Columbia</a>,\n",
              " <a href=\"/wiki/Panama_City\" title=\"Panama City\">Panama City</a>,\n",
              " <a href=\"/wiki/Rabat\" title=\"Rabat\">Rabat</a>,\n",
              " <a href=\"/wiki/Casablanca\" title=\"Casablanca\">Casablanca</a>,\n",
              " <a href=\"/wiki/Ouarzazate\" title=\"Ouarzazate\">Ouarzazate</a>,\n",
              " <a href=\"/wiki/Robbie_Greenberg\" title=\"Robbie Greenberg\">Robbie Greenberg</a>,\n",
              " <a href=\"/wiki/Dante_Spinotti\" title=\"Dante Spinotti\">Dante Spinotti</a>,\n",
              " <a href=\"/wiki/James_Coblentz\" title=\"James Coblentz\">James Coblentz</a>,\n",
              " <a href=\"/wiki/Mark_Helfrich_(film_editor)\" title=\"Mark Helfrich (film editor)\">Mark Helfrich</a>,\n",
              " <a class=\"mw-redirect\" href=\"/wiki/Ratpac-Dune_Entertainment\" title=\"Ratpac-Dune Entertainment\">Rat Entertainment</a>,\n",
              " <a href=\"/wiki/Original_Film\" title=\"Original Film\">Original Film</a>,\n",
              " <a href=\"/wiki/20th_Television\" title=\"20th Television\">20th Century Fox Television</a>,\n",
              " <a href=\"/wiki/Fox_Broadcasting_Company\" title=\"Fox Broadcasting Company\">Fox</a>,\n",
              " <a class=\"mw-redirect\" href=\"/wiki/HDTV\" title=\"HDTV\">HDTV</a>,\n",
              " <a href=\"/wiki/1080i\" title=\"1080i\">1080i</a>,\n",
              " <a href=\"/wiki/Breakout_Kings\" title=\"Breakout Kings\">Breakout Kings</a>]"
            ]
          },
          "metadata": {},
          "execution_count": 12
        }
      ]
    },
    {
      "cell_type": "markdown",
      "source": [
        "I used a tabulate library to print those data into a table. This is a great way to arrange data"
      ],
      "metadata": {
        "id": "LUPz0W2N_U_h"
      }
    },
    {
      "cell_type": "code",
      "source": [
        "from tabulate import tabulate\n",
        "table = soup.find_all(class_ = 'infobox vevent')[0] \n",
        "df = pd.read_html(str(table))\n",
        "print( tabulate(df[0], headers='keys', tablefmt='psql') )"
      ],
      "metadata": {
        "colab": {
          "base_uri": "https://localhost:8080/"
        },
        "id": "A-3FADOe-PYu",
        "outputId": "c9ca5f51-4e16-4007-8684-be5514e6b5bb"
      },
      "execution_count": 13,
      "outputs": [
        {
          "output_type": "stream",
          "name": "stdout",
          "text": [
            "+----+------------------------+----------------------------------------------------------------------------------------------------------------------------------------------------------------------------------------------------------------------------------------------------------------------------------------------------------------+\n",
            "|    | Prison Break           | Prison Break.1                                                                                                                                                                                                                                                                                                 |\n",
            "|----+------------------------+----------------------------------------------------------------------------------------------------------------------------------------------------------------------------------------------------------------------------------------------------------------------------------------------------------------|\n",
            "|  0 | Seasons 1–2 intertitle | Seasons 1–2 intertitle                                                                                                                                                                                                                                                                                         |\n",
            "|  1 | Genre                  | Serial drama Crime drama Action thriller                                                                                                                                                                                                                                                                       |\n",
            "|  2 | Created by             | Paul Scheuring                                                                                                                                                                                                                                                                                                 |\n",
            "|  3 | Starring               | Dominic Purcell Wentworth Miller Robin Tunney Peter Stormare Amaury Nolasco Marshall Allman Wade Williams Paul Adelstein Robert Knepper Rockmond Dunbar Sarah Wayne Callies William Fichtner Chris Vance Robert Wisdom Danay García Jodi Lyn O'Keefe Michael Rapaport Mark Feuerstein Inbar Lavi Augustus Prew |\n",
            "|  4 | Composer               | Ramin Djawadi                                                                                                                                                                                                                                                                                                  |\n",
            "|  5 | Country of origin      | United States                                                                                                                                                                                                                                                                                                  |\n",
            "|  6 | Original languages     | English Spanish Arabic                                                                                                                                                                                                                                                                                         |\n",
            "|  7 | No. of seasons         | 5                                                                                                                                                                                                                                                                                                              |\n",
            "|  8 | No. of episodes        | 90 (list of episodes)                                                                                                                                                                                                                                                                                          |\n",
            "|  9 | Production             | Production                                                                                                                                                                                                                                                                                                     |\n",
            "| 10 | Executive producers    | Marty Adelstein Neal H. Moritz Dawn Parouse Brett Ratner Paul Scheuring Matt Olmstead Kevin Hooks Michael Pavone Dawn Olmstead Vaun Wilmott Michael Horowitz Nelson McCormick                                                                                                                                  |\n",
            "| 11 | Production locations   | Chicago, Illinois Joliet, Illinois Dallas, Texas Pensacola, Florida Los Angeles, California Toronto, Ontario Vancouver, British Columbia Panama City Rabat Casablanca Ouarzazate                                                                                                                               |\n",
            "| 12 | Cinematography         | Fernando Argüelles Jeffrey C. Mygatt Robert LaBonge Chris Manley Robbie Greenberg Dante Spinotti (pilot only) Rick Anderson                                                                                                                                                                                    |\n",
            "| 13 | Editors                | Etienne Des Lauriers Scott Eilers Eric Seaburn Warren Bowman Kaja Fehr James Coblentz Mark Helfrich (pilot only)                                                                                                                                                                                               |\n",
            "| 14 | Running time           | 42–44 minutes                                                                                                                                                                                                                                                                                                  |\n",
            "| 15 | Production companies   | Rat Entertainment (Pilot) Original Film Adelstein/Parouse Productions (seasons 1–4) Dawn Olmstead Productions (season 5) Adelstein Productions (season 5) One Light Road Productions (season 5) 20th Century Fox Television                                                                                    |\n",
            "| 16 | Distributor            | 20th Television                                                                                                                                                                                                                                                                                                |\n",
            "| 17 | Release                | Release                                                                                                                                                                                                                                                                                                        |\n",
            "| 18 | Original network       | Fox                                                                                                                                                                                                                                                                                                            |\n",
            "| 19 | Picture format         | HDTV 1080i                                                                                                                                                                                                                                                                                                     |\n",
            "| 20 | Audio format           | Dolby Digital 5.1                                                                                                                                                                                                                                                                                              |\n",
            "| 21 | Original release       | Original series:August 29, 2005May 15, 2009Revival:April 4                                                                                                                                                                                                                                                     |\n",
            "| 22 | Chronology             | Chronology                                                                                                                                                                                                                                                                                                     |\n",
            "| 23 | Related shows          | Breakout Kings                                                                                                                                                                                                                                                                                                 |\n",
            "+----+------------------------+----------------------------------------------------------------------------------------------------------------------------------------------------------------------------------------------------------------------------------------------------------------------------------------------------------------+\n"
          ]
        }
      ]
    }
  ]
}