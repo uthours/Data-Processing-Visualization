{
  "nbformat": 4,
  "nbformat_minor": 0,
  "metadata": {
    "colab": {
      "name": "Quiz14.ipynb",
      "provenance": [],
      "collapsed_sections": [],
      "authorship_tag": "ABX9TyOxYA8HwL8PB7GL+EzPkI68",
      "include_colab_link": true
    },
    "kernelspec": {
      "name": "python3",
      "display_name": "Python 3"
    },
    "language_info": {
      "name": "python"
    }
  },
  "cells": [
    {
      "cell_type": "markdown",
      "metadata": {
        "id": "view-in-github",
        "colab_type": "text"
      },
      "source": [
        "<a href=\"https://colab.research.google.com/github/uthours/Data-Processing-Visualization/blob/main/Quiz14.ipynb\" target=\"_parent\"><img src=\"https://colab.research.google.com/assets/colab-badge.svg\" alt=\"Open In Colab\"/></a>"
      ]
    },
    {
      "cell_type": "markdown",
      "source": [
        "## Data Processing Visualization\n",
        "# Dr. Jacob, ECU\n",
        "# Uttam Subedi"
      ],
      "metadata": {
        "id": "JnqCdbxMo82R"
      }
    },
    {
      "cell_type": "markdown",
      "source": [
        "Write a program to print the 'Happy Birthday' song including your name. Try to do it with as few strings as possible."
      ],
      "metadata": {
        "id": "2-30WBMNpQhC"
      }
    },
    {
      "cell_type": "code",
      "source": [
        "song = \"\"\" Happy Birthday to You, Happy Birthday to You, Happy Birthday Dear %a, Happy Birthday to You.\"\"\" %('Uttam')"
      ],
      "metadata": {
        "id": "b4ia8EE3quij"
      },
      "execution_count": 23,
      "outputs": []
    },
    {
      "cell_type": "code",
      "source": [
        "song"
      ],
      "metadata": {
        "colab": {
          "base_uri": "https://localhost:8080/",
          "height": 36
        },
        "id": "nMEYcslfpwLp",
        "outputId": "094a2a73-f73b-4063-fd2f-ca3dd1675526"
      },
      "execution_count": 24,
      "outputs": [
        {
          "output_type": "execute_result",
          "data": {
            "application/vnd.google.colaboratory.intrinsic+json": {
              "type": "string"
            },
            "text/plain": [
              "\" Happy Birthday to You, Happy Birthday to You, Happy Birthday Dear 'Uttam', Happy Birthday to You.\""
            ]
          },
          "metadata": {},
          "execution_count": 24
        }
      ]
    }
  ]
}