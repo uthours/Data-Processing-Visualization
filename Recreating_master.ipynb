{
  "nbformat": 4,
  "nbformat_minor": 0,
  "metadata": {
    "colab": {
      "name": "Recreating_master.ipynb",
      "provenance": [],
      "authorship_tag": "ABX9TyOXV/vIetvqWDDDmouFZw4r",
      "include_colab_link": true
    },
    "kernelspec": {
      "name": "python3",
      "display_name": "Python 3"
    },
    "language_info": {
      "name": "python"
    }
  },
  "cells": [
    {
      "cell_type": "markdown",
      "metadata": {
        "id": "view-in-github",
        "colab_type": "text"
      },
      "source": [
        "<a href=\"https://colab.research.google.com/github/uthours/Data-Processing-Visualization/blob/main/Recreating_master.ipynb\" target=\"_parent\"><img src=\"https://colab.research.google.com/assets/colab-badge.svg\" alt=\"Open In Colab\"/></a>"
      ]
    },
    {
      "cell_type": "markdown",
      "source": [
        "#Uttam Subedi\n",
        "#Data Processing Visualization\n",
        "#Dr. Jacob, ECU\n",
        "#Recreating the masters"
      ],
      "metadata": {
        "id": "6N5OzLwbEAK-"
      }
    },
    {
      "cell_type": "markdown",
      "source": [
        ">**Abstract** This part shows the number of covid-19 cases and number of vaccination given for the top 10 countries. The data is published by informationisbeautiful, it was updated on 04/22/2022."
      ],
      "metadata": {
        "id": "2iJnmeiVG6Pe"
      }
    },
    {
      "cell_type": "markdown",
      "source": [
        ""
      ],
      "metadata": {
        "id": "k8KWxvBgHBer"
      }
    },
    {
      "cell_type": "code",
      "source": [
        "import requests\n",
        "import pandas as pa\n",
        "import seaborn as sns\n",
        "from bs4 import BeautifulSoup\n",
        "import numpy as np\n",
        "import matplotlib.image as mpimg\n",
        "import matplotlib.pyplot as plt"
      ],
      "metadata": {
        "id": "KYNq8Lu2Hoq5"
      },
      "execution_count": null,
      "outputs": []
    },
    {
      "cell_type": "code",
      "source": [
        "raw_data = requests.get('https://en.wikipedia.org/wiki/Forbes%27_list_of_the_world%27s_highest-paid_athletes')\n",
        "html_contents = raw_data.text\n",
        "html_soup = BeautifulSoup(html_contents,\"lxml\")\n",
        "len(html_soup.find_all('table'))"
      ],
      "metadata": {
        "colab": {
          "base_uri": "https://localhost:8080/"
        },
        "id": "jvVvZMH6MNJx",
        "outputId": "57cfa60b-dc33-4375-9b7b-ff2804d075f6"
      },
      "execution_count": null,
      "outputs": [
        {
          "output_type": "execute_result",
          "data": {
            "text/plain": [
              "14"
            ]
          },
          "metadata": {},
          "execution_count": 3
        }
      ]
    },
    {
      "cell_type": "code",
      "source": [
        "tables = html_soup.find_all('table')\n",
        "\n",
        "df = pa.read_html(str(tables))\n",
        "df"
      ],
      "metadata": {
        "id": "WnPDwgHTIgrN",
        "colab": {
          "base_uri": "https://localhost:8080/"
        },
        "outputId": "9222e221-4c5e-4d37-e0db-ef849de1ad31"
      },
      "execution_count": null,
      "outputs": [
        {
          "output_type": "execute_result",
          "data": {
            "text/plain": [
              "[   Rank                  Name                 Sport          Nation  \\\n",
              " 0     1        Michael Jordan            Basketball   United States   \n",
              " 1     2           Tiger Woods                  Golf   United States   \n",
              " 2     3         Arnold Palmer                  Golf   United States   \n",
              " 3     4         Jack Nicklaus                  Golf   United States   \n",
              " 4     5    Michael Schumacher           Auto racing         Germany   \n",
              " 5     6        Phil Mickelson                  Golf   United States   \n",
              " 6     7           Kobe Bryant            Basketball   United States   \n",
              " 7     7         David Beckham  Association football  United Kingdom   \n",
              " 8     9  Floyd Mayweather Jr.                Boxing   United States   \n",
              " 9    10      Shaquille O'Neal            Basketball   United States   \n",
              " \n",
              "    EarningsMillion $  \n",
              " 0               1850  \n",
              " 1               1700  \n",
              " 2               1400  \n",
              " 3               1200  \n",
              " 4               1000  \n",
              " 5                815  \n",
              " 6                800  \n",
              " 7                800  \n",
              " 8                785  \n",
              " 9                735  ,\n",
              "    Rank               Name                 Sport              Country  \\\n",
              " 0     1     Conor McGregor    Mixed martial arts  Republic of Ireland   \n",
              " 1     2       Lionel Messi  Association football            Argentina   \n",
              " 2     3  Cristiano Ronaldo  Association football             Portugal   \n",
              " 3     4       Dak Prescott     American football        United States   \n",
              " 4     5       LeBron James            Basketball        United States   \n",
              " 5     6             Neymar  Association football               Brazil   \n",
              " 6     7      Roger Federer                Tennis          Switzerland   \n",
              " 7     8     Lewis Hamilton           Auto racing       United Kingdom   \n",
              " 8     9          Tom Brady     American football        United States   \n",
              " 9    10       Kevin Durant            Basketball        United States   \n",
              " \n",
              "             Total Salary/winnings  Endorsements  \n",
              " 0    $180 million     $22 million  $158 million  \n",
              " 1    $130 million     $97 million   $33 million  \n",
              " 2    $120 million     $70 million   $50 million  \n",
              " 3  $107.5 million   $97.5 million   $10 million  \n",
              " 4   $96.5 million   $31.5 million   $65 million  \n",
              " 5     $95 million     $76 million   $19 million  \n",
              " 6     $90 million   $0.03 million   $90 million  \n",
              " 7     $82 million     $70 million   $12 million  \n",
              " 8     $76 million     $45 million   $31 million  \n",
              " 9     $75 million     $31 million   $44 million  ,\n",
              "    Rank               Name                 Sport        Country  \\\n",
              " 0     1      Roger Federer                Tennis    Switzerland   \n",
              " 1     2  Cristiano Ronaldo  Association football       Portugal   \n",
              " 2     3       Lionel Messi  Association football      Argentina   \n",
              " 3     4             Neymar  Association football         Brazil   \n",
              " 4     5       LeBron James            Basketball  United States   \n",
              " 5     6      Stephen Curry            Basketball  United States   \n",
              " 6     7       Kevin Durant            Basketball  United States   \n",
              " 7     8        Tiger Woods                  Golf  United States   \n",
              " 8     9       Kirk Cousins     American football  United States   \n",
              " 9    10       Carson Wentz     American football  United States   \n",
              " \n",
              "             Total Salary/winnings  Endorsements  \n",
              " 0  $106.3 million    $6.3 million  $100 million  \n",
              " 1    $105 million     $60 million   $45 million  \n",
              " 2    $104 million     $72 million   $32 million  \n",
              " 3   $95.5 million   $70.5 million   $25 million  \n",
              " 4   $88.2 million   $28.2 million   $60 million  \n",
              " 5   $74.4 million   $30.4 million   $44 million  \n",
              " 6   $63.9 million   $28.9 million   $35 million  \n",
              " 7   $62.3 million    $2.3 million   $60 million  \n",
              " 8   $60.5 million     $58 million  $2.5 million  \n",
              " 9   $59.1 million   $55.1 million    $4 million  ,\n",
              "    Rank                  Name                 Sport          Nation  \\\n",
              " 0     1  Floyd Mayweather Jr.                Boxing   United States   \n",
              " 1     2     Cristiano Ronaldo  Association football        Portugal   \n",
              " 2     3          Lionel Messi  Association football       Argentina   \n",
              " 3     4          LeBron James            Basketball   United States   \n",
              " 4     5         Roger Federer                Tennis     Switzerland   \n",
              " 5     6           Tiger Woods                  Golf   United States   \n",
              " 6     7        Phil Mickelson                  Golf   United States   \n",
              " 7     8        Manny Pacquiao                Boxing     Philippines   \n",
              " 8     9          Kevin Durant            Basketball   United States   \n",
              " 9    10        Lewis Hamilton           Auto racing  United Kingdom   \n",
              " \n",
              "        Earnings  \n",
              " 0  $915 million  \n",
              " 1  $800 million  \n",
              " 2  $750 million  \n",
              " 3  $680 million  \n",
              " 4  $640 million  \n",
              " 5  $615 million  \n",
              " 6  $480 million  \n",
              " 7  $435 million  \n",
              " 8  $425 million  \n",
              " 9  $400 million  ,\n",
              "    Rank               Name                 Sport         Nation  \\\n",
              " 0     1       Lionel Messi  Association football      Argentina   \n",
              " 1     2  Cristiano Ronaldo  Association football       Portugal   \n",
              " 2     3             Neymar  Association football         Brazil   \n",
              " 3     4     Canelo Álvarez                Boxing         Mexico   \n",
              " 4     5      Roger Federer                Tennis    Switzerland   \n",
              " 5     6     Russell Wilson     American football  United States   \n",
              " 6     7      Aaron Rodgers     American football  United States   \n",
              " 7     8       LeBron James            Basketball  United States   \n",
              " 8     9      Stephen Curry            Basketball  United States   \n",
              " 9    10       Kevin Durant            Basketball  United States   \n",
              " \n",
              "            Total Salary/Winnings Endorsements  \n",
              " 0   $127 million     $92 million  $35 million  \n",
              " 1   $109 million     $65 million  $44 million  \n",
              " 2   $105 million     $75 million  $30 million  \n",
              " 3    $94 million     $92 million   $2 million  \n",
              " 4  $93.4 million    $7.4 million  $86 million  \n",
              " 5  $89.5 million   $80.5 million   $9 million  \n",
              " 6  $89.3 million   $80.3 million   $9 million  \n",
              " 7    $89 million     $36 million  $53 million  \n",
              " 8  $79.8 million   $37.8 million  $42 million  \n",
              " 9  $65.4 million   $30.4 million  $35 million  ,\n",
              "    Rank                  Name                 Sport               Nation  \\\n",
              " 0     1  Floyd Mayweather Jr.                Boxing        United States   \n",
              " 1     2          Lionel Messi  Association football            Argentina   \n",
              " 2     3     Cristiano Ronaldo  Association football             Portugal   \n",
              " 3     4        Conor McGregor    Mixed martial arts  Republic of Ireland   \n",
              " 4     5                Neymar  Association football               Brazil   \n",
              " 5     6          LeBron James            Basketball        United States   \n",
              " 6     7         Roger Federer                Tennis          Switzerland   \n",
              " 7     8         Stephen Curry            Basketball        United States   \n",
              " 8     9             Matt Ryan     American football        United States   \n",
              " 9    10      Matthew Stafford     American football        United States   \n",
              " \n",
              "            Total Salary/Winnings Endorsements  \n",
              " 0   $285 million    $275 million  $10 million  \n",
              " 1   $111 million     $84 million  $27 million  \n",
              " 2   $108 million     $61 million  $47 million  \n",
              " 3    $99 million     $85 million  $14 million  \n",
              " 4    $90 million     $73 million  $17 million  \n",
              " 5  $85.5 million   $33.5 million  $52 million  \n",
              " 6  $77.2 million   $12.2 million  $65 million  \n",
              " 7  $76.9 million   $34.9 million  $42 million  \n",
              " 8  $67.3 million   $62.3 million   $5 million  \n",
              " 9  $59.5 million   $57.5 million   $2 million  ,\n",
              "    Rank               Name                 Sport            Nation  \\\n",
              " 0     1  Cristiano Ronaldo  Association football          Portugal   \n",
              " 1     2       LeBron James            Basketball     United States   \n",
              " 2     3       Lionel Messi  Association football         Argentina   \n",
              " 3     4      Roger Federer                Tennis       Switzerland   \n",
              " 4     5       Kevin Durant            Basketball     United States   \n",
              " 5     6        Andrew Luck     American football     United States   \n",
              " 6     6       Rory McIlroy                  Golf  Northern Ireland   \n",
              " 7     8      Stephen Curry            Basketball     United States   \n",
              " 8     9       James Harden            Basketball     United States   \n",
              " 9    10     Lewis Hamilton           Auto racing    United Kingdom   \n",
              " \n",
              "            Total Salary/Winnings Endorsements  \n",
              " 0    $93 million     $58 million  $35 million  \n",
              " 1  $86.2 million   $31.2 million  $55 million  \n",
              " 2    $80 million     $53 million  $27 million  \n",
              " 3    $64 million      $6 million  $58 million  \n",
              " 4  $60.6 million   $26.6 million  $34 million  \n",
              " 5    $50 million     $47 million   $3 million  \n",
              " 6    $50 million     $16 million  $34 million  \n",
              " 7  $47.3 million   $12.3 million  $35 million  \n",
              " 8  $46.6 million   $26.6 million  $20 million  \n",
              " 9    $46 million     $38 million   $8 million  ,\n",
              "    Rank               Name                 Sport         Nation  \\\n",
              " 0     1  Cristiano Ronaldo  Association football       Portugal   \n",
              " 1     2       Lionel Messi  Association football      Argentina   \n",
              " 2     3       LeBron James            Basketball  United States   \n",
              " 3     4      Roger Federer                Tennis    Switzerland   \n",
              " 4     5       Kevin Durant            Basketball  United States   \n",
              " 5     6     Novak Djokovic                Tennis         Serbia   \n",
              " 6     7         Cam Newton     American football  United States   \n",
              " 7     8     Phil Mickelson                  Golf  United States   \n",
              " 8     9      Jordan Spieth                  Golf  United States   \n",
              " 9    10        Kobe Bryant            Basketball  United States   \n",
              " \n",
              "            Total Salary/Winnings Endorsements  \n",
              " 0    $88 million     $56 million  $32 million  \n",
              " 1  $81.4 million   $53.4 million  $28 million  \n",
              " 2  $77.2 million   $23.2 million  $54 million  \n",
              " 3  $67.8 million    $7.8 million  $60 million  \n",
              " 4  $56.2 million   $20.2 million  $36 million  \n",
              " 5  $55.8 million   $21.8 million  $34 million  \n",
              " 6  $53.1 million   $41.1 million  $12 million  \n",
              " 7  $52.9 million    $2.9 million  $50 million  \n",
              " 8  $52.8 million   $20.8 million  $32 million  \n",
              " 9    $50 million     $25 million  $25 million  ,\n",
              "    Rank                  Name                 Sport         Nation  \\\n",
              " 0     1  Floyd Mayweather Jr.                Boxing  United States   \n",
              " 1     2        Manny Pacquiao                Boxing    Philippines   \n",
              " 2     3     Cristiano Ronaldo  Association football       Portugal   \n",
              " 3     4          Lionel Messi  Association football      Argentina   \n",
              " 4     5         Roger Federer                Tennis    Switzerland   \n",
              " 5     6          LeBron James            Basketball  United States   \n",
              " 6     7          Kevin Durant            Basketball  United States   \n",
              " 7     8        Phil Mickelson                  Golf  United States   \n",
              " 8     9           Tiger Woods                  Golf  United States   \n",
              " 9    10           Kobe Bryant            Basketball  United States   \n",
              " \n",
              "            Total Salary/Winnings Endorsements  \n",
              " 0   $300 million    $285 million  $15 million  \n",
              " 1   $160 million    $148 million  $12 million  \n",
              " 2  $79.6 million   $52.6 million  $27 million  \n",
              " 3  $73.8 million   $51.8 million  $22 million  \n",
              " 4    $67 million      $9 million  $58 million  \n",
              " 5  $64.8 million   $20.8 million  $44 million  \n",
              " 6  $54.1 million   $19.1 million  $35 million  \n",
              " 7  $50.8 million    $2.8 million  $48 million  \n",
              " 8  $50.6 million    $0.6 million  $50 million  \n",
              " 9  $49.5 million   $23.5 million  $26 million  ,\n",
              "    Rank                  Name                 Sport         Nation  \\\n",
              " 0     1  Floyd Mayweather Jr.                Boxing  United States   \n",
              " 1     2     Cristiano Ronaldo  Association football       Portugal   \n",
              " 2     3          LeBron James            Basketball  United States   \n",
              " 3     4          Lionel Messi  Association football      Argentina   \n",
              " 4     5           Kobe Bryant            Basketball  United States   \n",
              " 5     6           Tiger Woods                  Golf  United States   \n",
              " 6     7         Roger Federer                Tennis    Switzerland   \n",
              " 7     8        Phil Mickelson                  Golf  United States   \n",
              " 8     9          Rafael Nadal                Tennis          Spain   \n",
              " 9    10             Matt Ryan     American football  United States   \n",
              " \n",
              "            Total Salary/Winnings  Endorsements  \n",
              " 0   $105 million    $105 million            $0  \n",
              " 1    $80 million     $52 million   $28 million  \n",
              " 2  $72.3 million   $19.3 million   $53 million  \n",
              " 3  $64.7 million   $41.7 million   $23 million  \n",
              " 4  $61.5 million   $30.5 million   $31 million  \n",
              " 5  $61.2 million    $6.2 million   $55 million  \n",
              " 6  $56.2 million    $4.2 million   $52 million  \n",
              " 7  $53.2 million    $5.2 million   $48 million  \n",
              " 8  $44.5 million   $14.5 million   $30 million  \n",
              " 9  $43.8 million     $42 million  $1.8 million  ,\n",
              "    Rank               Name                 Sport          Nation  \\\n",
              " 0     1        Tiger Woods                  Golf   United States   \n",
              " 1     2      Roger Federer                Tennis     Switzerland   \n",
              " 2     3        Kobe Bryant            Basketball   United States   \n",
              " 3     4       LeBron James            Basketball   United States   \n",
              " 4     5         Drew Brees     American football   United States   \n",
              " 5     6      Aaron Rodgers     American football   United States   \n",
              " 6     7     Phil Mickelson                  Golf   United States   \n",
              " 7     8      David Beckham  Association football  United Kingdom   \n",
              " 8     9  Cristiano Ronaldo  Association football        Portugal   \n",
              " 9    10       Lionel Messi  Association football       Argentina   \n",
              " \n",
              "            Total Salary/Winnings Endorsements  \n",
              " 0  $78.1 million   $13.1 million  $65 million  \n",
              " 1  $71.5 million    $6.5 million  $65 million  \n",
              " 2  $61.9 million   $27.9 million  $34 million  \n",
              " 3  $59.8 million   $17.8 million  $42 million  \n",
              " 4    $51 million     $40 million  $11 million  \n",
              " 5    $49 million     $43 million   $6 million  \n",
              " 6  $48.7 million    $4.7 million  $44 million  \n",
              " 7  $47.2 million    $5.2 million  $42 million  \n",
              " 8    $44 million     $23 million  $21 million  \n",
              " 9  $41.3 million   $20.3 million  $21 million  ,\n",
              "    Rank                  Name                 Sport     Nationality  \\\n",
              " 0     1  Floyd Mayweather Jr.                Boxing   United States   \n",
              " 1     2        Manny Pacquiao                Boxing     Philippines   \n",
              " 2     3           Tiger Woods                  Golf   United States   \n",
              " 3     4          LeBron James            Basketball   United States   \n",
              " 4     5         Roger Federer                Tennis     Switzerland   \n",
              " 5     6           Kobe Bryant            Basketball   United States   \n",
              " 6     7        Phil Mickelson                  Golf   United States   \n",
              " 7     8         David Beckham  Association football  United Kingdom   \n",
              " 8     9     Cristiano Ronaldo  Association football        Portugal   \n",
              " 9    10        Peyton Manning     American football   United States   \n",
              " \n",
              "   Total earnings Salary/winnings Endorsements  \n",
              " 0    $85 million     $85 million           $0  \n",
              " 1    $62 million     $56 million   $6 million  \n",
              " 2  $59.4 million    $4.4 million  $55 million  \n",
              " 3    $53 million     $13 million  $40 million  \n",
              " 4  $52.7 million    $7.7 million  $45 million  \n",
              " 5  $52.3 million   $20.3 million  $32 million  \n",
              " 6  $47.8 million    $4.8 million  $43 million  \n",
              " 7    $46 million      $9 million  $37 million  \n",
              " 8  $42.5 million   $20.5 million  $22 million  \n",
              " 9  $42.4 million   $32.4 million  $10 million  ,\n",
              "   .mw-parser-output .navbar{display:inline;font-size:88%;font-weight:normal}.mw-parser-output .navbar-collapse{float:left;text-align:left}.mw-parser-output .navbar-boxtext{word-spacing:0}.mw-parser-output .navbar ul{display:inline-block;white-space:nowrap;line-height:inherit}.mw-parser-output .navbar-brackets::before{margin-right:-0.125em;content:\"[ \"}.mw-parser-output .navbar-brackets::after{margin-left:-0.125em;content:\" ]\"}.mw-parser-output .navbar li{word-spacing:-0.125em}.mw-parser-output .navbar a>span,.mw-parser-output .navbar a>abbr{text-decoration:inherit}.mw-parser-output .navbar-mini abbr{font-variant:small-caps;border-bottom:none;text-decoration:none;cursor:inherit}.mw-parser-output .navbar-ct-full{font-size:114%;margin:0 7em}.mw-parser-output .navbar-ct-mini{font-size:114%;margin:0 4em}vteForbes magazine  \\\n",
              " 0                                          Companies                                                                                                                                                                                                                                                                                                                                                                                                                                                                                                                                                                                                                                                                                                                                                                                                           \n",
              " 1                                             People                                                                                                                                                                                                                                                                                                                                                                                                                                                                                                                                                                                                                                                                                                                                                                                                           \n",
              " 2                                            General                                                                                                                                                                                                                                                                                                                                                                                                                                                                                                                                                                                                                                                                                                                                                                                                           \n",
              " 3                                            Richest                                                                                                                                                                                                                                                                                                                                                                                                                                                                                                                                                                                                                                                                                                                                                                                                           \n",
              " 4                                             Places                                                                                                                                                                                                                                                                                                                                                                                                                                                                                                                                                                                                                                                                                                                                                                                                           \n",
              " 5                                             Sports                                                                                                                                                                                                                                                                                                                                                                                                                                                                                                                                                                                                                                                                                                                                                                                                           \n",
              " 6                                         Technology                                                                                                                                                                                                                                                                                                                                                                                                                                                                                                                                                                                                                                                                                                                                                                                                           \n",
              " \n",
              "   .mw-parser-output .navbar{display:inline;font-size:88%;font-weight:normal}.mw-parser-output .navbar-collapse{float:left;text-align:left}.mw-parser-output .navbar-boxtext{word-spacing:0}.mw-parser-output .navbar ul{display:inline-block;white-space:nowrap;line-height:inherit}.mw-parser-output .navbar-brackets::before{margin-right:-0.125em;content:\"[ \"}.mw-parser-output .navbar-brackets::after{margin-left:-0.125em;content:\" ]\"}.mw-parser-output .navbar li{word-spacing:-0.125em}.mw-parser-output .navbar a>span,.mw-parser-output .navbar a>abbr{text-decoration:inherit}.mw-parser-output .navbar-mini abbr{font-variant:small-caps;border-bottom:none;text-decoration:none;cursor:inherit}.mw-parser-output .navbar-ct-full{font-size:114%;margin:0 7em}.mw-parser-output .navbar-ct-mini{font-size:114%;margin:0 4em}vteForbes magazine.1  \\\n",
              " 0                             Global 2000 Forbes 500                                                                                                                                                                                                                                                                                                                                                                                                                                                                                                                                                                                                                                                                                                                                                                                                             \n",
              " 1  General Celebrity 100 30 Under 30 China Celebr...                                                                                                                                                                                                                                                                                                                                                                                                                                                                                                                                                                                                                                                                                                                                                                                                             \n",
              " 2  Celebrity 100 30 Under 30 China Celebrity 100 ...                                                                                                                                                                                                                                                                                                                                                                                                                                                                                                                                                                                                                                                                                                                                                                                                             \n",
              " 3  The World's Billionaires Forbes 400 Australia’...                                                                                                                                                                                                                                                                                                                                                                                                                                                                                                                                                                                                                                                                                                                                                                                                             \n",
              " 4                            America's Best Colleges                                                                                                                                                                                                                                                                                                                                                                                                                                                                                                                                                                                                                                                                                                                                                                                                             \n",
              " 5  Highest-paid athletes Most valuable sports tea...                                                                                                                                                                                                                                                                                                                                                                                                                                                                                                                                                                                                                                                                                                                                                                                                             \n",
              " 6                Midas List (Tech's Top Deal Makers)                                                                                                                                                                                                                                                                                                                                                                                                                                                                                                                                                                                                                                                                                                                                                                                                             \n",
              " \n",
              "    .mw-parser-output .navbar{display:inline;font-size:88%;font-weight:normal}.mw-parser-output .navbar-collapse{float:left;text-align:left}.mw-parser-output .navbar-boxtext{word-spacing:0}.mw-parser-output .navbar ul{display:inline-block;white-space:nowrap;line-height:inherit}.mw-parser-output .navbar-brackets::before{margin-right:-0.125em;content:\"[ \"}.mw-parser-output .navbar-brackets::after{margin-left:-0.125em;content:\" ]\"}.mw-parser-output .navbar li{word-spacing:-0.125em}.mw-parser-output .navbar a>span,.mw-parser-output .navbar a>abbr{text-decoration:inherit}.mw-parser-output .navbar-mini abbr{font-variant:small-caps;border-bottom:none;text-decoration:none;cursor:inherit}.mw-parser-output .navbar-ct-full{font-size:114%;margin:0 7em}.mw-parser-output .navbar-ct-mini{font-size:114%;margin:0 4em}vteForbes magazine.2  \n",
              " 0                                                NaN                                                                                                                                                                                                                                                                                                                                                                                                                                                                                                                                                                                                                                                                                                                                                                                                             \n",
              " 1                                                NaN                                                                                                                                                                                                                                                                                                                                                                                                                                                                                                                                                                                                                                                                                                                                                                                                             \n",
              " 2                                                NaN                                                                                                                                                                                                                                                                                                                                                                                                                                                                                                                                                                                                                                                                                                                                                                                                             \n",
              " 3                                                NaN                                                                                                                                                                                                                                                                                                                                                                                                                                                                                                                                                                                                                                                                                                                                                                                                             \n",
              " 4                                                NaN                                                                                                                                                                                                                                                                                                                                                                                                                                                                                                                                                                                                                                                                                                                                                                                                             \n",
              " 5                                                NaN                                                                                                                                                                                                                                                                                                                                                                                                                                                                                                                                                                                                                                                                                                                                                                                                             \n",
              " 6                                                NaN                                                                                                                                                                                                                                                                                                                                                                                                                                                                                                                                                                                                                                                                                                                                                                                                             ,\n",
              "          0                                                  1\n",
              " 0  General  Celebrity 100 30 Under 30 China Celebrity 100 ...\n",
              " 1  Richest  The World's Billionaires Forbes 400 Australia’...,\n",
              "          0                                                  1\n",
              " 0  General  Celebrity 100 30 Under 30 China Celebrity 100 ...\n",
              " 1  Richest  The World's Billionaires Forbes 400 Australia’...]"
            ]
          },
          "metadata": {},
          "execution_count": 4
        }
      ]
    },
    {
      "cell_type": "code",
      "source": [
        "ax = sns.barplot( )\n",
        "plt.show()"
      ],
      "metadata": {
        "colab": {
          "base_uri": "https://localhost:8080/",
          "height": 265
        },
        "id": "A5EYDSf0My3-",
        "outputId": "dc097190-7758-4ace-9572-cfae70920cdf"
      },
      "execution_count": null,
      "outputs": [
        {
          "output_type": "display_data",
          "data": {
            "text/plain": [
              "<Figure size 432x288 with 1 Axes>"
            ],
            "image/png": "[encoded data removed]"
          },
          "metadata": {
            "needs_background": "light"
          }
        }
      ]
    },
    {
      "cell_type": "code",
      "source": [
        "ax = sns.barplot(data = df, x= 'Name', y= \"Nation\", hue_order= None )\n",
        "ax.set_xticklabels(ax.get_xticklabels(),rotation = 90)\n",
        "ax.set_title('TOP 10 RICHEST ATHELETS IN THE WORLD 2021')\n",
        "plt.show()"
      ],
      "metadata": {
        "colab": {
          "base_uri": "https://localhost:8080/",
          "height": 391
        },
        "id": "24KVU7sWOOOT",
        "outputId": "2f5a38fb-5332-4d2d-ed75-0990af627f9a"
      },
      "execution_count": null,
      "outputs": [
        {
          "output_type": "error",
          "ename": "AttributeError",
          "evalue": "ignored",
          "traceback": [
            "\u001b[0;31m---------------------------------------------------------------------------\u001b[0m",
            "\u001b[0;31mAttributeError\u001b[0m                            Traceback (most recent call last)",
            "\u001b[0;32m<ipython-input-9-429acc30501a>\u001b[0m in \u001b[0;36m<module>\u001b[0;34m()\u001b[0m\n\u001b[0;32m----> 1\u001b[0;31m \u001b[0max\u001b[0m \u001b[0;34m=\u001b[0m \u001b[0msns\u001b[0m\u001b[0;34m.\u001b[0m\u001b[0mbarplot\u001b[0m\u001b[0;34m(\u001b[0m\u001b[0mdata\u001b[0m \u001b[0;34m=\u001b[0m \u001b[0mdf\u001b[0m\u001b[0;34m,\u001b[0m \u001b[0mx\u001b[0m\u001b[0;34m=\u001b[0m \u001b[0;34m'Name'\u001b[0m\u001b[0;34m,\u001b[0m \u001b[0my\u001b[0m\u001b[0;34m=\u001b[0m \u001b[0;34m\"Nation\"\u001b[0m\u001b[0;34m,\u001b[0m \u001b[0mhue_order\u001b[0m\u001b[0;34m=\u001b[0m \u001b[0;32mNone\u001b[0m \u001b[0;34m)\u001b[0m\u001b[0;34m\u001b[0m\u001b[0;34m\u001b[0m\u001b[0m\n\u001b[0m\u001b[1;32m      2\u001b[0m \u001b[0max\u001b[0m\u001b[0;34m.\u001b[0m\u001b[0mset_xticklabels\u001b[0m\u001b[0;34m(\u001b[0m\u001b[0max\u001b[0m\u001b[0;34m.\u001b[0m\u001b[0mget_xticklabels\u001b[0m\u001b[0;34m(\u001b[0m\u001b[0;34m)\u001b[0m\u001b[0;34m,\u001b[0m\u001b[0mrotation\u001b[0m \u001b[0;34m=\u001b[0m \u001b[0;36m90\u001b[0m\u001b[0;34m)\u001b[0m\u001b[0;34m\u001b[0m\u001b[0;34m\u001b[0m\u001b[0m\n\u001b[1;32m      3\u001b[0m \u001b[0max\u001b[0m\u001b[0;34m.\u001b[0m\u001b[0mset_title\u001b[0m\u001b[0;34m(\u001b[0m\u001b[0;34m'TOP 10 RICHEST ATHELETS IN THE WORLD 2021'\u001b[0m\u001b[0;34m)\u001b[0m\u001b[0;34m\u001b[0m\u001b[0;34m\u001b[0m\u001b[0m\n\u001b[1;32m      4\u001b[0m \u001b[0mplt\u001b[0m\u001b[0;34m.\u001b[0m\u001b[0mshow\u001b[0m\u001b[0;34m(\u001b[0m\u001b[0;34m)\u001b[0m\u001b[0;34m\u001b[0m\u001b[0;34m\u001b[0m\u001b[0m\n",
            "\u001b[0;32m/usr/local/lib/python3.7/dist-packages/seaborn/_decorators.py\u001b[0m in \u001b[0;36minner_f\u001b[0;34m(*args, **kwargs)\u001b[0m\n\u001b[1;32m     44\u001b[0m             )\n\u001b[1;32m     45\u001b[0m         \u001b[0mkwargs\u001b[0m\u001b[0;34m.\u001b[0m\u001b[0mupdate\u001b[0m\u001b[0;34m(\u001b[0m\u001b[0;34m{\u001b[0m\u001b[0mk\u001b[0m\u001b[0;34m:\u001b[0m \u001b[0marg\u001b[0m \u001b[0;32mfor\u001b[0m \u001b[0mk\u001b[0m\u001b[0;34m,\u001b[0m \u001b[0marg\u001b[0m \u001b[0;32min\u001b[0m \u001b[0mzip\u001b[0m\u001b[0;34m(\u001b[0m\u001b[0msig\u001b[0m\u001b[0;34m.\u001b[0m\u001b[0mparameters\u001b[0m\u001b[0;34m,\u001b[0m \u001b[0margs\u001b[0m\u001b[0;34m)\u001b[0m\u001b[0;34m}\u001b[0m\u001b[0;34m)\u001b[0m\u001b[0;34m\u001b[0m\u001b[0;34m\u001b[0m\u001b[0m\n\u001b[0;32m---> 46\u001b[0;31m         \u001b[0;32mreturn\u001b[0m \u001b[0mf\u001b[0m\u001b[0;34m(\u001b[0m\u001b[0;34m**\u001b[0m\u001b[0mkwargs\u001b[0m\u001b[0;34m)\u001b[0m\u001b[0;34m\u001b[0m\u001b[0;34m\u001b[0m\u001b[0m\n\u001b[0m\u001b[1;32m     47\u001b[0m     \u001b[0;32mreturn\u001b[0m \u001b[0minner_f\u001b[0m\u001b[0;34m\u001b[0m\u001b[0;34m\u001b[0m\u001b[0m\n\u001b[1;32m     48\u001b[0m \u001b[0;34m\u001b[0m\u001b[0m\n",
            "\u001b[0;32m/usr/local/lib/python3.7/dist-packages/seaborn/categorical.py\u001b[0m in \u001b[0;36mbarplot\u001b[0;34m(x, y, hue, data, order, hue_order, estimator, ci, n_boot, units, seed, orient, color, palette, saturation, errcolor, errwidth, capsize, dodge, ax, **kwargs)\u001b[0m\n\u001b[1;32m   3183\u001b[0m                           \u001b[0mestimator\u001b[0m\u001b[0;34m,\u001b[0m \u001b[0mci\u001b[0m\u001b[0;34m,\u001b[0m \u001b[0mn_boot\u001b[0m\u001b[0;34m,\u001b[0m \u001b[0munits\u001b[0m\u001b[0;34m,\u001b[0m \u001b[0mseed\u001b[0m\u001b[0;34m,\u001b[0m\u001b[0;34m\u001b[0m\u001b[0;34m\u001b[0m\u001b[0m\n\u001b[1;32m   3184\u001b[0m                           \u001b[0morient\u001b[0m\u001b[0;34m,\u001b[0m \u001b[0mcolor\u001b[0m\u001b[0;34m,\u001b[0m \u001b[0mpalette\u001b[0m\u001b[0;34m,\u001b[0m \u001b[0msaturation\u001b[0m\u001b[0;34m,\u001b[0m\u001b[0;34m\u001b[0m\u001b[0;34m\u001b[0m\u001b[0m\n\u001b[0;32m-> 3185\u001b[0;31m                           errcolor, errwidth, capsize, dodge)\n\u001b[0m\u001b[1;32m   3186\u001b[0m \u001b[0;34m\u001b[0m\u001b[0m\n\u001b[1;32m   3187\u001b[0m     \u001b[0;32mif\u001b[0m \u001b[0max\u001b[0m \u001b[0;32mis\u001b[0m \u001b[0;32mNone\u001b[0m\u001b[0;34m:\u001b[0m\u001b[0;34m\u001b[0m\u001b[0;34m\u001b[0m\u001b[0m\n",
            "\u001b[0;32m/usr/local/lib/python3.7/dist-packages/seaborn/categorical.py\u001b[0m in \u001b[0;36m__init__\u001b[0;34m(self, x, y, hue, data, order, hue_order, estimator, ci, n_boot, units, seed, orient, color, palette, saturation, errcolor, errwidth, capsize, dodge)\u001b[0m\n\u001b[1;32m   1583\u001b[0m         \u001b[0;34m\"\"\"Initialize the plotter.\"\"\"\u001b[0m\u001b[0;34m\u001b[0m\u001b[0;34m\u001b[0m\u001b[0m\n\u001b[1;32m   1584\u001b[0m         self.establish_variables(x, y, hue, data, orient,\n\u001b[0;32m-> 1585\u001b[0;31m                                  order, hue_order, units)\n\u001b[0m\u001b[1;32m   1586\u001b[0m         \u001b[0mself\u001b[0m\u001b[0;34m.\u001b[0m\u001b[0mestablish_colors\u001b[0m\u001b[0;34m(\u001b[0m\u001b[0mcolor\u001b[0m\u001b[0;34m,\u001b[0m \u001b[0mpalette\u001b[0m\u001b[0;34m,\u001b[0m \u001b[0msaturation\u001b[0m\u001b[0;34m)\u001b[0m\u001b[0;34m\u001b[0m\u001b[0;34m\u001b[0m\u001b[0m\n\u001b[1;32m   1587\u001b[0m         \u001b[0mself\u001b[0m\u001b[0;34m.\u001b[0m\u001b[0mestimate_statistic\u001b[0m\u001b[0;34m(\u001b[0m\u001b[0mestimator\u001b[0m\u001b[0;34m,\u001b[0m \u001b[0mci\u001b[0m\u001b[0;34m,\u001b[0m \u001b[0mn_boot\u001b[0m\u001b[0;34m,\u001b[0m \u001b[0mseed\u001b[0m\u001b[0;34m)\u001b[0m\u001b[0;34m\u001b[0m\u001b[0;34m\u001b[0m\u001b[0m\n",
            "\u001b[0;32m/usr/local/lib/python3.7/dist-packages/seaborn/categorical.py\u001b[0m in \u001b[0;36mestablish_variables\u001b[0;34m(self, x, y, hue, data, orient, order, hue_order, units)\u001b[0m\n\u001b[1;32m    142\u001b[0m             \u001b[0;31m# See if we need to get variables from `data`\u001b[0m\u001b[0;34m\u001b[0m\u001b[0;34m\u001b[0m\u001b[0;34m\u001b[0m\u001b[0m\n\u001b[1;32m    143\u001b[0m             \u001b[0;32mif\u001b[0m \u001b[0mdata\u001b[0m \u001b[0;32mis\u001b[0m \u001b[0;32mnot\u001b[0m \u001b[0;32mNone\u001b[0m\u001b[0;34m:\u001b[0m\u001b[0;34m\u001b[0m\u001b[0;34m\u001b[0m\u001b[0m\n\u001b[0;32m--> 144\u001b[0;31m                 \u001b[0mx\u001b[0m \u001b[0;34m=\u001b[0m \u001b[0mdata\u001b[0m\u001b[0;34m.\u001b[0m\u001b[0mget\u001b[0m\u001b[0;34m(\u001b[0m\u001b[0mx\u001b[0m\u001b[0;34m,\u001b[0m \u001b[0mx\u001b[0m\u001b[0;34m)\u001b[0m\u001b[0;34m\u001b[0m\u001b[0;34m\u001b[0m\u001b[0m\n\u001b[0m\u001b[1;32m    145\u001b[0m                 \u001b[0my\u001b[0m \u001b[0;34m=\u001b[0m \u001b[0mdata\u001b[0m\u001b[0;34m.\u001b[0m\u001b[0mget\u001b[0m\u001b[0;34m(\u001b[0m\u001b[0my\u001b[0m\u001b[0;34m,\u001b[0m \u001b[0my\u001b[0m\u001b[0;34m)\u001b[0m\u001b[0;34m\u001b[0m\u001b[0;34m\u001b[0m\u001b[0m\n\u001b[1;32m    146\u001b[0m                 \u001b[0mhue\u001b[0m \u001b[0;34m=\u001b[0m \u001b[0mdata\u001b[0m\u001b[0;34m.\u001b[0m\u001b[0mget\u001b[0m\u001b[0;34m(\u001b[0m\u001b[0mhue\u001b[0m\u001b[0;34m,\u001b[0m \u001b[0mhue\u001b[0m\u001b[0;34m)\u001b[0m\u001b[0;34m\u001b[0m\u001b[0;34m\u001b[0m\u001b[0m\n",
            "\u001b[0;31mAttributeError\u001b[0m: 'list' object has no attribute 'get'"
          ]
        }
      ]
    }
  ]
}