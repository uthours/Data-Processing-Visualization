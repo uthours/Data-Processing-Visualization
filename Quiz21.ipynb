{
  "nbformat": 4,
  "nbformat_minor": 0,
  "metadata": {
    "colab": {
      "name": "Quiz21.ipynb",
      "provenance": [],
      "authorship_tag": "ABX9TyOdsGtSeqzWIDUVJVDqU6vp",
      "include_colab_link": true
    },
    "kernelspec": {
      "name": "python3",
      "display_name": "Python 3"
    },
    "language_info": {
      "name": "python"
    }
  },
  "cells": [
    {
      "cell_type": "markdown",
      "metadata": {
        "id": "view-in-github",
        "colab_type": "text"
      },
      "source": [
        "<a href=\"https://colab.research.google.com/github/uthours/Data-Processing-Visualization/blob/main/Quiz21.ipynb\" target=\"_parent\"><img src=\"https://colab.research.google.com/assets/colab-badge.svg\" alt=\"Open In Colab\"/></a>"
      ]
    },
    {
      "cell_type": "markdown",
      "source": [
        "# Uttam Subedi"
      ],
      "metadata": {
        "id": "iECOS6pQ_BKT"
      }
    },
    {
      "cell_type": "markdown",
      "source": [
        "![john Snow](https://media.nationalgeographic.org/assets/photos/000/276/27636.jpg)"
      ],
      "metadata": {
        "id": "EnKPs0I17A_v"
      }
    },
    {
      "cell_type": "markdown",
      "source": [
        "#Examine John Snow's map of cholera outbreak in 1854 for 'graphical excellence'. Discuss the highlights of the graphic.\n",
        "\n",
        "Ans:  In the given John Snow's map of cholera outbreak, John used bars to show the number of dead people based on their location. The number of death cases is more in and around broad street. There is a water pump in the intersection of broadway street and cambridge street, the death rate in these areas are high.  John Snow may have tested the water from these pump and concluded that people drinking water from these pumps are infected with cholera."
      ],
      "metadata": {
        "id": "Bf14gsNM7Jyx"
      }
    },
    {
      "cell_type": "markdown",
      "source": [
        "incomplete..."
      ],
      "metadata": {
        "id": "u0Qd4WpS9lv6"
      }
    }
  ]
}